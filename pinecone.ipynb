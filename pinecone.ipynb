{
 "cells": [
  {
   "cell_type": "code",
   "execution_count": 6,
   "metadata": {},
   "outputs": [],
   "source": [
    "import json\n",
    "\n",
    "with open('credentials.json') as f:\n",
    "    data = json.load(f)\n",
    "    api_key = data['api_key']\n",
    "    openai_api_key = data['openai_api_key']"
   ]
  },
  {
   "cell_type": "code",
   "execution_count": 7,
   "metadata": {},
   "outputs": [],
   "source": [
    "from pinecone import Pinecone\n",
    "\n",
    "pc = Pinecone(api_key=api_key)\n"
   ]
  },
  {
   "cell_type": "code",
   "execution_count": 8,
   "metadata": {},
   "outputs": [
    {
     "name": "stdout",
     "output_type": "stream",
     "text": [
      "1898\n"
     ]
    }
   ],
   "source": [
    "\n",
    "with open(\"emoji.txt\") as f:\n",
    "    emoji = [line.split(\"#\")[1].strip().split(\" \", 2) for line in f if \"fully-qualified\" in line and not line.startswith(\"#\")]\n",
    "\n",
    "print(len(emoji))"
   ]
  },
  {
   "cell_type": "code",
   "execution_count": 9,
   "metadata": {},
   "outputs": [],
   "source": [
    "index = pc.Index(\"emoji\")"
   ]
  },
  {
   "cell_type": "code",
   "execution_count": 10,
   "metadata": {},
   "outputs": [],
   "source": [
    "from openai import AsyncOpenAI\n",
    "\n",
    "async_client = AsyncOpenAI(\n",
    "    api_key=openai_api_key,\n",
    ")"
   ]
  },
  {
   "cell_type": "code",
   "execution_count": 11,
   "metadata": {},
   "outputs": [],
   "source": [
    "import asyncio\n",
    "from asynciolimiter import Limiter\n",
    "\n",
    "limiter = Limiter(500/60)\n",
    "\n",
    "async def analyze(e):\n",
    "\tawait limiter.wait()\n",
    "\tchat = await async_client.chat.completions.create(messages=[\n",
    "\t\t{\"role\": \"system\", \"content\": \"You are a helpful assistant that analyzes emoji. You will receive a message with an emoji and it's canonical name. You will respond with a description of the emoji and a short 1-2 sentence description of how it is used.\"},\n",
    "\t\t{\"role\": \"user\", \"content\": f\"emoji: {e[0]}\\name: {e[2]}\"},\n",
    "\t], model=\"gpt-3.5-turbo\", temperature=0.3)\n",
    "\tresp = chat.choices[0].message.content\n",
    "\tembedding = await async_client.embeddings.create(input=resp, model=\"text-embedding-3-small\")\n",
    "\n",
    "\treturn {\n",
    "\t\t\"id\": e[2],\n",
    "\t\t\"values\": embedding.data[0].embedding,\n",
    "\t\t\"metadata\": { \"edition\": float(e[1].removeprefix(\"E\")), \"name\": e[2], \"emoji\": e[0], \"description\":  resp }\n",
    "\t}\n",
    "\n",
    "tasks = [analyze(emo) for emo in emoji]\n",
    "completed_tasks = await asyncio.gather(*tasks, return_exceptions=True)\n"
   ]
  },
  {
   "cell_type": "code",
   "execution_count": 12,
   "metadata": {},
   "outputs": [
    {
     "name": "stdout",
     "output_type": "stream",
     "text": [
      "5\n"
     ]
    }
   ],
   "source": [
    "print(len(completed_tasks))"
   ]
  },
  {
   "cell_type": "code",
   "execution_count": 13,
   "metadata": {},
   "outputs": [
    {
     "name": "stdout",
     "output_type": "stream",
     "text": [
      "{'id': 'grinning face', 'values': [0.029121619, -0.0015660091, -0.011394021, ... , -0.010671864, -0.006253338], 'metadata': {'edition': 1.0, 'name': 'grinning face', 'emoji': '😀', 'description': 'The emoji 😀 is a grinning face with smiling eyes. It is often used to convey happiness, joy, or a friendly greeting in text messages or social media posts.'}}\n"
     ]
    }
   ],
   "source": [
    "for v in completed_tasks:\n",
    "    v[\"id\"] = v[\"id\"].replace(\"’\", \"-\").replace(\"ñ\", \"n\").replace(\"“\", \"\\\"\").replace(\"”\", \"\\\"\").replace(\"Å\", \"A\").replace(\"é\", \"e\").replace(\"ô\", \"o\").replace(\"ç\", \"c\").replace(\"ã\", \"a\").replace(\"í\", \"i\").replace(\"ü\", \"u\")\n",
    "\n",
    "print(completed_tasks[0])"
   ]
  },
  {
   "cell_type": "code",
   "execution_count": 31,
   "metadata": {},
   "outputs": [
    {
     "name": "stderr",
     "output_type": "stream",
     "text": [
      "Upserted vectors: 100%|██████████| 1897/1897 [00:17<00:00, 109.13it/s]\n"
     ]
    },
    {
     "data": {
      "text/plain": [
       "{'upserted_count': 1897}"
      ]
     },
     "execution_count": 31,
     "metadata": {},
     "output_type": "execute_result"
    }
   ],
   "source": [
    "index.upsert(vectors=completed_tasks, batch_size=100)\n",
    "\n",
    "# print(len(c))"
   ]
  },
  {
   "cell_type": "code",
   "execution_count": 15,
   "metadata": {},
   "outputs": [
    {
     "name": "stdout",
     "output_type": "stream",
     "text": [
      "🐈 0.387731433\n",
      "🐕 0.346858114\n",
      "🐩 0.346812248\n",
      "🐾 0.325074822\n",
      "🐱 0.324121416\n",
      "🐹 0.301057756\n",
      "🐶 0.295934945\n",
      "🐕‍🦺 0.295025021\n",
      "🐈‍⬛ 0.290965855\n",
      "😺 0.28406617\n",
      "{'id': 'cat',\n",
      " 'metadata': {'description': 'The emoji 🐈 depicts a cute and playful cat. It '\n",
      "                             'is often used to represent pet cats, love for '\n",
      "                             'cats, or to convey feelings of playfulness or '\n",
      "                             'mischief.',\n",
      "              'edition': 0.7,\n",
      "              'emoji': '🐈',\n",
      "              'name': 'cat'},\n",
      " 'score': 0.387731433,\n",
      " 'values': []}\n"
     ]
    }
   ],
   "source": [
    "query = \"Class pet\"\n",
    "from openai import OpenAI\n",
    "client = OpenAI(\n",
    "    api_key=openai_api_key\n",
    ")\n",
    "v = client.embeddings.create(input=[query], model=\"text-embedding-3-small\").data[0].embedding\n",
    "\n",
    "results = index.query(vector=v, top_k=10, include_metadata=True, include_values=False)\n",
    "\n",
    "for result in results[\"matches\"]:\n",
    "    print(result[\"metadata\"][\"emoji\"], result[\"score\"])\n",
    "    \n",
    "print(results[\"matches\"][0])"
   ]
  }
 ],
 "metadata": {
  "kernelspec": {
   "display_name": "venv",
   "language": "python",
   "name": "python3"
  },
  "language_info": {
   "codemirror_mode": {
    "name": "ipython",
    "version": 3
   },
   "file_extension": ".py",
   "mimetype": "text/x-python",
   "name": "python",
   "nbconvert_exporter": "python",
   "pygments_lexer": "ipython3",
   "version": "3.12.3"
  }
 },
 "nbformat": 4,
 "nbformat_minor": 2
}
