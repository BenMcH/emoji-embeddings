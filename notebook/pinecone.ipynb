{
 "cells": [
  {
   "cell_type": "code",
   "execution_count": 7,
   "metadata": {},
   "outputs": [],
   "source": [
    "import json\n",
    "\n",
    "with open('credentials.json') as f:\n",
    "    data = json.load(f)\n",
    "    api_key = data['api_key']\n",
    "    openai_api_key = data['openai_api_key']"
   ]
  },
  {
   "cell_type": "code",
   "execution_count": 8,
   "metadata": {},
   "outputs": [],
   "source": [
    "from pinecone import Pinecone\n",
    "\n",
    "pc = Pinecone(api_key=api_key)\n",
    "index = pc.Index(\"emoji\")\n"
   ]
  },
  {
   "cell_type": "code",
   "execution_count": 9,
   "metadata": {},
   "outputs": [
    {
     "name": "stdout",
     "output_type": "stream",
     "text": [
      "1897\n"
     ]
    }
   ],
   "source": [
    "\n",
    "with open(\"emoji.txt\") as f:\n",
    "    emoji = [line.split(\"#\")[1].strip().split(\" \", 2) for line in f if \"fully-qualified\" in line and not line.startswith(\"#\")]\n",
    "\n",
    "emoji = [e for e in emoji if len(e) == 3]\n",
    "\n",
    "print(len(emoji))"
   ]
  },
  {
   "cell_type": "code",
   "execution_count": 10,
   "metadata": {},
   "outputs": [],
   "source": [
    "from openai import AsyncOpenAI\n",
    "\n",
    "async_client = AsyncOpenAI(\n",
    "    api_key=openai_api_key,\n",
    ")"
   ]
  },
  {
   "cell_type": "code",
   "execution_count": 11,
   "metadata": {},
   "outputs": [],
   "source": [
    "def remove_special_characters(value: str):\n",
    "    return value.replace(\"’\", \"-\").replace(\"ñ\", \"n\").replace(\"“\", \"\\\"\").replace(\"”\", \"\\\"\").replace(\"Å\", \"A\").replace(\"é\", \"e\").replace(\"ô\", \"o\").replace(\"ç\", \"c\").replace(\"ã\", \"a\").replace(\"í\", \"i\").replace(\"ü\", \"u\")"
   ]
  },
  {
   "cell_type": "code",
   "execution_count": 12,
   "metadata": {},
   "outputs": [],
   "source": [
    "import asyncio\n",
    "from asynciolimiter import Limiter\n",
    "\n",
    "limiter = Limiter(500/60)\n",
    "\n",
    "async def analyze(e):\n",
    "\tawait limiter.wait()\n",
    "\tchat = await async_client.chat.completions.create(messages=[\n",
    "\t\t{\"role\": \"system\", \"content\": \"You are a helpful assistant that analyzes emoji. You will receive a message with an emoji and it's canonical name. You will respond with a description of the emoji and a short 1-2 sentence description of how it is used.\"},\n",
    "\t\t{\"role\": \"user\", \"content\": f\"emoji: {e[0]}\\name: {e[2]}\"},\n",
    "\t], model=\"gpt-3.5-turbo\", temperature=0.3)\n",
    "\tresp = chat.choices[0].message.content\n",
    "\tembedding = await async_client.embeddings.create(input=resp, model=\"text-embedding-3-small\")\n",
    "\n",
    "\treturn {\n",
    "\t\t\"id\": remove_special_characters(e[2]),\n",
    "\t\t\"values\": embedding.data[0].embedding,\n",
    "\t\t\"metadata\": { \"edition\": float(e[1].removeprefix(\"E\")), \"name\": e[2], \"emoji\": e[0], \"description\":  resp }\n",
    "\t}\n",
    "\n",
    "tasks = [analyze(emo) for emo in emoji]\n",
    "completed_tasks = await asyncio.gather(*tasks, return_exceptions=True)\n"
   ]
  },
  {
   "cell_type": "code",
   "execution_count": 14,
   "metadata": {},
   "outputs": [],
   "source": [
    "index.upsert(vectors=completed_tasks, batch_size=100, show_progress=False)\n"
   ]
  },
  {
   "cell_type": "code",
   "execution_count": 20,
   "metadata": {},
   "outputs": [
    {
     "name": "stdout",
     "output_type": "stream",
     "text": [
      "💆‍♂️ 0.40551883\n",
      "🧖‍♀️ 0.39030984\n",
      "🧖 0.35707128\n",
      "🧖‍♂️ 0.345063329\n",
      "💆 0.337619901\n",
      "😌 0.332396418\n",
      "🧘‍♂️ 0.323039919\n",
      "🧘‍♀️ 0.322773635\n",
      "💆‍♀️ 0.31727761\n",
      "🧘 0.309738398\n",
      "{'id': 'man getting massage',\n",
      " 'metadata': {'description': 'This emoji depicts a man getting a massage, with '\n",
      "                             'his eyes closed and a serene expression. It is '\n",
      "                             'often used to represent relaxation, self-care, '\n",
      "                             'spa days, or getting pampered.',\n",
      "              'edition': 4.0,\n",
      "              'emoji': '💆\\u200d♂️',\n",
      "              'name': 'man getting massage'},\n",
      " 'score': 0.40551883,\n",
      " 'values': []}\n"
     ]
    }
   ],
   "source": [
    "query = \"relaxation\"\n",
    "from openai import OpenAI\n",
    "client = OpenAI(\n",
    "    api_key=openai_api_key\n",
    ")\n",
    "v = client.embeddings.create(input=[query], model=\"text-embedding-3-small\").data[0].embedding\n",
    "\n",
    "results = index.query(vector=v, top_k=10, include_metadata=True, include_values=False)\n",
    "\n",
    "for result in results[\"matches\"]:\n",
    "    print(result[\"metadata\"][\"emoji\"], result[\"score\"])\n",
    "    \n",
    "print(results[\"matches\"][0])"
   ]
  }
 ],
 "metadata": {
  "kernelspec": {
   "display_name": "venv",
   "language": "python",
   "name": "python3"
  },
  "language_info": {
   "codemirror_mode": {
    "name": "ipython",
    "version": 3
   },
   "file_extension": ".py",
   "mimetype": "text/x-python",
   "name": "python",
   "nbconvert_exporter": "python",
   "pygments_lexer": "ipython3",
   "version": "3.12.3"
  }
 },
 "nbformat": 4,
 "nbformat_minor": 2
}
